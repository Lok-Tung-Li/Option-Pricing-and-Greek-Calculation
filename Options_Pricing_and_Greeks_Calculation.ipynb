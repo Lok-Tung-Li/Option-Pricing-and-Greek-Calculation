{
  "nbformat": 4,
  "nbformat_minor": 0,
  "metadata": {
    "colab": {
      "provenance": [],
      "authorship_tag": "ABX9TyOlO7EIHU0+qiSEKlWZet/e",
      "include_colab_link": true
    },
    "kernelspec": {
      "name": "python3",
      "display_name": "Python 3"
    },
    "language_info": {
      "name": "python"
    }
  },
  "cells": [
    {
      "cell_type": "markdown",
      "metadata": {
        "id": "view-in-github",
        "colab_type": "text"
      },
      "source": [
        "<a href=\"https://colab.research.google.com/github/Lok-Tung-Li/Option-Pricing-and-Greek-Calculation/blob/main/Options_Pricing_and_Greeks_Calculation.ipynb\" target=\"_parent\"><img src=\"https://colab.research.google.com/assets/colab-badge.svg\" alt=\"Open In Colab\"/></a>"
      ]
    },
    {
      "cell_type": "markdown",
      "source": [
        "In this notebook, we will implement and analyze options pricing models, implement some option Greeks, and compare with open source library `Quantlib`.\n",
        "\n",
        "1.  Black-Scholes Model: Analytic solutions\n",
        "\n",
        "2.  Black-Scholes Model: Numerical solutions by finite Difference Method\n",
        "\n",
        "3.  Binomial Tree: CRR Model\n",
        "\n",
        "4.  Monte-Carlo simulation: Ordinary and Least Square Methods\n",
        "\n",
        "5.  Option Greeks\n",
        "\n",
        "6.  Comparison with `Quantlib`"
      ],
      "metadata": {
        "id": "urJSDGM_M8wM"
      }
    },
    {
      "cell_type": "markdown",
      "source": [
        "##1.  Black-Scholes Model: Analytic solutions"
      ],
      "metadata": {
        "id": "nh45ecZ0OsC5"
      }
    },
    {
      "cell_type": "markdown",
      "source": [
        "###Black-Scholes Equation"
      ],
      "metadata": {
        "id": "8ViKHntKYOXd"
      }
    },
    {
      "cell_type": "markdown",
      "source": [
        "Let us recall the derivation of the Black-Scholes formula, using a no arbitrage argument. Assume the price of the underlying asset $S$ follows geometric brownian motion:\n",
        "$$dS = (\\mu-q) Sdt + \\sigma SdW$$\n",
        "where $\\mu$ is the drift rate, $\\sigma$ is the volatility, $q$ is the dividend yield and $W$ is a Brownian motion.\n",
        "\n",
        "Let $V=V(S,t)$ be the payoff of an option, as a function of S and t. By Ito's lemma, we have \\begin{align*}dV &= \\left(\\dfrac{\\partial V}{\\partial t}+\\dfrac{1}{2}\\dfrac{\\partial^2 V}{\\partial S^2}\\right)dS^2 + \\dfrac{\\partial V}{\\partial S}dS \\\\\n",
        "&=\\left(\\dfrac{\\partial V}{\\partial t}+(\\mu-q) S\\dfrac{\\partial V}{\\partial S}+\\dfrac{1}{2}\\sigma^2  S^2\\dfrac{\\partial^2 V}{\\partial S^2}\\right)dt + \\sigma S\\dfrac{\\partial V}{\\partial S}dW \\end{align*}\n",
        "\n",
        "Consider a portfolio $\\Pi$, where we short one option $V$, and long $e^{-qt}\\dfrac{\\partial V}{\\partial S}$ shares of S.  \n",
        "\n",
        "Value of $\\Pi$ is:\n",
        "$$\\Pi = -V + (e^{-qt}\\dfrac{\\partial V}{\\partial S})(e^{qt}S) = -V+\\dfrac{\\partial V}{\\partial S}S$$\n",
        "\n",
        "In the time interval $[t,t+\\Delta t]$, we have\n",
        "\\begin{align}\\Delta \\Pi &= -\\Delta V + e^{-qt}\\dfrac{\\partial V}{\\partial S}\\Delta (e^{qt}S)=-\\Delta V+qS\\dfrac{\\partial V}{\\partial S}\\Delta t + \\dfrac{\\partial V}{\\partial S}\\Delta S\\\\\n",
        "&=\\left(-\\dfrac{\\partial V}{\\partial t}-\\dfrac{1}{2}\\sigma^2 S^2\\dfrac{\\partial^2 V}{\\partial S^2}+qS\\dfrac{\\partial V}{\\partial S}\\right)\\Delta t \\end{align}\n",
        "By no-arbitrage, on the other hand we have $$\\Delta\\Pi= r\\Pi \\Delta t=\\left(-rV+rS\\dfrac{\\partial V}{\\partial S}\\right)\\Delta t$$where $r$ is the risk-free interest rate.\n",
        "We conclude the Black-Scholes Equation $$\\dfrac{\\partial V}{\\partial t}+\\dfrac{1}{2}\\sigma^2 S^2\\dfrac{\\partial^2 V}{\\partial S^2}+(r-q)S\\dfrac{\\partial V}{\\partial S}-rV =0$$\n",
        "\n",
        "(Rigorously, we should short $\\dfrac{e^{rt}}{V-\\frac{\\partial V}{\\partial S}S}$ of $V$ and long $\\dfrac{e^{(r-q)t}\\frac{\\partial V}{\\partial S}}{V-\\frac{\\partial V}{\\partial S}S}$ of $S$, to make the portfolio self-financing.)"
      ],
      "metadata": {
        "id": "4MNr1lnwO9Fd"
      }
    },
    {
      "cell_type": "markdown",
      "source": [
        "###European options: Analytic solution\n",
        "\n"
      ],
      "metadata": {
        "id": "uwYTFgCoaV6S"
      }
    },
    {
      "cell_type": "code",
      "source": [
        "#import library\n",
        "from math import log, sqrt, pi, exp\n",
        "from scipy.stats import norm\n",
        "import numpy as np\n",
        "import matplotlib.pyplot as plt\n",
        "import seaborn as sns\n",
        "sns.set()\n",
        "%matplotlib inline\n",
        "plt.style.use('fivethirtyeight')"
      ],
      "metadata": {
        "id": "qQM5O8wFrUej"
      },
      "execution_count": 1,
      "outputs": []
    },
    {
      "cell_type": "markdown",
      "source": [
        "Consider the case of the price of a European call option $C(S,t)$ with maturity $T$ and strike price $K$. From definition $$C(S,T)=(S-K)^+$$ Using no-arbitrage argument again, we have $$C(0,t)=0,\\quad \\lim_{S\\to\\infty} \\dfrac{C(S,t)}{S}=1$$\n",
        "Solving the Black-Scholes Equation, we have $$C(S_t,t) = \\Phi(d_1)S_te^{-q(T-t)} - \\Phi(d_2)Ke^{-r(T-t)}$$\n",
        "where $$d_1 = \\dfrac{1}{\\sigma\\sqrt{T-t}}\\left[\\log\\left(\\dfrac{S_t}{K}\\right)+\\left(r+\\dfrac{\\sigma^2}{2}\\right)(T-t)\\right]$$\n",
        "$$d_2 = d_1 - \\sigma\\sqrt{T-t},\\quad \\displaystyle \\Phi(x) = \\dfrac{1}{\\sqrt{2\\pi}}\\int_{-\\infty}^{x}e^{z^2/2}dz$$"
      ],
      "metadata": {
        "id": "iRQf_q1zI3SR"
      }
    },
    {
      "cell_type": "markdown",
      "source": [
        "For a European put option $P(S,t)$ with maturity $T$ and stirke price $K$, from definition we have $P(S,T)=(K-S)^+$. Using put-call parity, $$C(S,t)-P(S,t) = S_te^{-q(T-t)} - Ke^{-r(T-t)}$$\n",
        "We also have $$P(S_t,t) = \\Phi(-d_2)Ke^{-r(T-t)}-\\Phi(-d_1)S_te^{-q(T-t)}$$"
      ],
      "metadata": {
        "id": "70j-rqDQRgxc"
      }
    },
    {
      "cell_type": "code",
      "source": [
        "# Calculate the d1 term in the Black-Scholes formula\n",
        "def d1(S_0, K, T, r, q, sigma):\n",
        "    return (log(S_0 / K) + (r - q + sigma**2 / 2) * T) / (sigma * sqrt(T))\n",
        "\n",
        "# Calculate the d2 term in the Black-Scholes formula\n",
        "def d2(S_0, K, T, r, q, sigma):\n",
        "    return d1(S_0, K, T, r, q, sigma) - sigma * sqrt(T)\n",
        "\n",
        "# Calculate the Black-Scholes price for European call and put options\n",
        "def BS_European_analytic(S_0, K, T, r, q, sigma, type='call'):\n",
        "    # Ensure the option type is either 'call' or 'put'\n",
        "    if type not in ['call', 'put']:\n",
        "        raise ValueError('type must be either \"call\" or \"put\"')\n",
        "\n",
        "    if type == 'call':\n",
        "        # Call option formula\n",
        "        return (norm.cdf(d1(S_0, K, T, r, q, sigma)) * S_0 * exp(-q * T) -\n",
        "                norm.cdf(d2(S_0, K, T, r, q, sigma)) * K * exp(-r * T))\n",
        "    else:\n",
        "        # Put option formula (using put-call parity)\n",
        "        return (K * exp(-r * T) - S_0 * exp(-q * T) +\n",
        "                BS_European_analytic(S_0, K, T, r, q, sigma, 'call'))\n",
        "\n",
        "# Wrapper function to handle option style and type\n",
        "def BS_analytic(S_0, K, T, r, q, sigma, style='european', type='call'):\n",
        "    # Ensure the option type is either 'call' or 'put'\n",
        "    if type not in ['call', 'put']:\n",
        "        raise ValueError('type must be either \"call\" or \"put\"')\n",
        "\n",
        "    # Ensure the option style is 'european' for analytic solution\n",
        "    if style != 'european':\n",
        "        raise ValueError('analytic solution is only for european options')\n",
        "\n",
        "    return BS_European_analytic(S_0, K, T, r, q, sigma, type)"
      ],
      "metadata": {
        "id": "wG44k7rCSkwA"
      },
      "execution_count": 2,
      "outputs": []
    },
    {
      "cell_type": "markdown",
      "source": [
        "###Vanilla American Call option"
      ],
      "metadata": {
        "id": "lBtFlQ-KrUIT"
      }
    },
    {
      "cell_type": "markdown",
      "source": [
        "For a vanilla $(q=0)$ American Call option, the price is the same as a vanilla European option.\n",
        "\n",
        "As American options has more right than their European counterpart, we have $$C_{\\text{American}}(S,t) \\geq C_{\\text{European}}(S,t)$$\n",
        "On the other hand for American call options $C_{\\text{American}}(S,t)$, if is exercised at time $t$\n",
        "\\begin{align}C_{\\text{American}}(S,t) &=  S_t-K \\\\ &\\leq S_t-Ke^{r(T-t)} \\\\ &\\leq S_t-Ke^{r(T-t)}+P_{\\text{European}}(S,t) = C_{\\text{European}}(S,t)\\end{align}\n",
        "By Put-Call parity. If it is not exercised at any $t$, then again $C_{\\text{American}}=C_{\\text{European}}$."
      ],
      "metadata": {
        "id": "mbdFjjTJrYpQ"
      }
    },
    {
      "cell_type": "markdown",
      "source": [
        "##2.  Black-Scholes Model: Numerical solutions by finite Difference Method"
      ],
      "metadata": {
        "id": "pB9IdBypwdLd"
      }
    },
    {
      "cell_type": "markdown",
      "source": [
        "###Overview and grids"
      ],
      "metadata": {
        "id": "2UV88lb_bnhl"
      }
    },
    {
      "cell_type": "markdown",
      "source": [
        "In pricing American call options with dividend, or even vanilla American put options, we have to use numerical methods.\n",
        "\n",
        "We will consider\n",
        "\n",
        "1. Explicit finite difference method\n",
        "2. Implicit finite difference method\n",
        "3. Crank-Nicolson method\n",
        "\n",
        "to solve the discretized Black-Scholes Equation."
      ],
      "metadata": {
        "id": "PU5FjcAkubEk"
      }
    },
    {
      "cell_type": "markdown",
      "source": [
        "We begin by forming the grid. We divide $[0,T]$ to $N$ time steps with $\\Delta t = \\frac{T}{N}$, and $M$ price steps. We will assume the lower and lower bound of $S$ are $(S_{\\text{min}},S_{\\text{max}}) = (S_0e^{(r-q-\\frac{\\sigma^2}{2})T-5\\sigma\\sqrt{T}},S_0e^{(r-q-\\frac{\\sigma^2}{2})T+5\\sigma\\sqrt{T}})$, and divide $[S_{\\text{min}},S_{\\text{max}}]$ to $M$ price steps with $\\Delta S = \\dfrac{S_{\\text{max}}-S_{\\text{min}}}{M}$.\n",
        "\n",
        "Boundary conditions for call options becomes: $$V_{i,N} = ((S_{\\text{min}}+i\\Delta S)-K)^{+}, \\quad V_{0,j} = (S_{\\text{min}}-e^{-r(N-j)\\Delta t}K)^{+}, \\quad \\quad V_{M,j} = (S_{\\text{max}}-e^{-r(N-j)\\Delta t}K)^{+}$$\n",
        "\n",
        "Boundary conditions for put options becomes: $$V_{i,N} = (K-(S_{\\text{min}}+i\\Delta S))^{+}, \\quad V_{0,j} = (e^{-r(N-j)\\Delta t}K-S_{\\text{min}})^{+}, \\quad \\quad V_{M,j} = (e^{-r(N-j)\\Delta t}K-S_{\\text{max}})^{+}$$\n",
        "\n",
        "Here, $i$ runs through 0 to $M$, and $j$ runs through $N$ to $0$."
      ],
      "metadata": {
        "id": "bM3BMx_ZIiQa"
      }
    },
    {
      "cell_type": "markdown",
      "source": [
        "###Explicit finite difference"
      ],
      "metadata": {
        "id": "VPRBk065dWxb"
      }
    },
    {
      "cell_type": "markdown",
      "source": [
        "First, we discretize the Black-Scholes Equation $$\\dfrac{\\partial V}{\\partial t}+\\dfrac{1}{2}\\sigma^2 S^2\\dfrac{\\partial^2 V}{\\partial S^2}+(r-q)S\\dfrac{\\partial V}{\\partial S}-rV =0$$\n",
        "\n",
        "Under explicit finite difference approximation, Black-Scholes PDE becomes\n",
        "$$V_{i,j-1} = a_iV_{i-1,j}+b_iV_{i,j}+c_iV_{i+1,j}\n",
        "$$ where $$a_i=\\frac{1}{2}\\Delta t(\\sigma^2i^2-(r-q)i),\\quad b_i = 1-\\Delta t(\\sigma^2i^2+r), \\quad c_i = \\frac{1}{2}\\Delta t(\\sigma^2i^2+(r-q)i)$$"
      ],
      "metadata": {
        "id": "3Uj8y84ft12v"
      }
    },
    {
      "cell_type": "code",
      "source": [
        "def BS_Explicit(S_0, K, T, r, q, sigma, N=1000, M=100, style='european', type='call'):\n",
        "    # Validate the option type\n",
        "    if type not in ['call', 'put']:\n",
        "        raise ValueError('type must be either \"call\" or \"put\"')\n",
        "\n",
        "    # Validate the option style\n",
        "    if style not in ['american', 'european']:\n",
        "        raise ValueError('style must be either \"american\" or \"european\"')\n",
        "\n",
        "    # Determine sign for call (1) or put (-1) option\n",
        "    sign = 1 if type == 'call' else -1\n",
        "\n",
        "    # Time step size\n",
        "    dt = T / N\n",
        "\n",
        "    # Define the range of asset prices\n",
        "    S_min = 0\n",
        "    S_max = S_0 * exp((r - q - sigma**2 / 2) * T + 5 * sigma * sqrt(T))\n",
        "\n",
        "    # Discretize the asset price range\n",
        "    S = np.linspace(S_min, S_max, M + 1)\n",
        "\n",
        "    # Coefficients for the finite difference method\n",
        "    alpha = 0.5 * dt * (sigma**2 * np.arange(0, M + 1)**2 - (r - q) * np.arange(0, M + 1))\n",
        "    beta = 1 - dt * (sigma**2 * np.arange(0, M + 1)**2 + r)\n",
        "    gamma = 0.5 * dt * (sigma**2 * np.arange(0, M + 1)**2 + (r - q) * np.arange(0, M + 1))\n",
        "\n",
        "    # Initialize the option value matrix\n",
        "    V = np.zeros((M + 1, N + 1))\n",
        "\n",
        "    # Set the terminal payoff at maturity\n",
        "    V[:, -1] = np.maximum(sign * (S - K), 0)\n",
        "\n",
        "    # Boundary conditions at S_min and S_max\n",
        "    V[0, :] = np.maximum(sign * (S_min - np.exp(-r * (N - np.arange(0, N + 1)) * dt) * K), 0)\n",
        "    V[-1, :] = np.maximum(sign * (S_max - np.exp(-r * (N - np.arange(0, N + 1)) * dt) * K), 0)\n",
        "\n",
        "    # Backward induction to solve the PDE\n",
        "    for j in range(N - 1, -1, -1):\n",
        "        for i in range(1, M):\n",
        "            # Finite difference equation\n",
        "            V[i, j] = alpha[i] * V[i - 1, j + 1] + beta[i] * V[i, j + 1] + gamma[i] * V[i + 1, j + 1]\n",
        "\n",
        "            # Handle early exercise for American options\n",
        "            if style == 'american':\n",
        "                V[i, j] = np.maximum(sign * (S[i] - K), V[i, j])\n",
        "\n",
        "    # Interpolate to get the option price at S_0\n",
        "    return np.interp(S_0, S, V[:, 0])"
      ],
      "metadata": {
        "id": "5VStaNtpLPaT"
      },
      "execution_count": 3,
      "outputs": []
    },
    {
      "cell_type": "markdown",
      "source": [
        "## Implicit finite difference"
      ],
      "metadata": {
        "id": "OaDFuElrGu9A"
      }
    },
    {
      "cell_type": "markdown",
      "source": [
        "Under implicit finite difference approximation, Black-Scholes PDE becomes\n",
        "$$V_{i,j+1} = a_iV_{i-1,j}+b_iV_{i,j}+c_iV_{i+1,j}\n",
        "$$ where $$a_i=-\\frac{1}{2}\\Delta t(\\sigma^2i^2-(r-q)i),\\quad b_i = 1+\\Delta t(\\sigma^2i^2+r), \\quad c_i = -\\frac{1}{2}\\Delta t(\\sigma^2i^2+(r-q)i)$$\n",
        "\n",
        "For each $j$, if we write $V_j = (V_{i,j})_{1\\leq i\\leq M-1}\\in\\mathbb{R}^{M-1}$ as a column vector, then the above relation can be written as\n",
        "\n",
        "$$AV_j = V_{j+1}-a_0V_{0,j}e_{1}-c_{M-1}V_{M,j}e_{M-1}$$\n",
        "where $e_1=(1,0,\\dots,0)^t,e_{M-1}=(0,\\dots,0,1)^t$, and $A$ is a tridigonal matirx with $$A = \\begin{pmatrix}b_1&c_1&&&\\\\ a_2&b_2&c_2&&\\\\\n",
        "&a_3&\\ddots&\\ddots& \\\\\n",
        "&&\\ddots &\\ddots&c_{M-2}\\\\\n",
        "&&&a_{M-1}&b_{M-1}\\end{pmatrix}.$$\n",
        "\n",
        "Together with the boundary condition, this allows us to solve for $V_j$ by taking inverse of $A$."
      ],
      "metadata": {
        "id": "7INSjMCcGy55"
      }
    },
    {
      "cell_type": "code",
      "source": [
        "def BS_Implicit(S_0, K, T, r, q, sigma, N=1000, M=100, style='european', type='call'):\n",
        "    # Validate the option type\n",
        "    if type not in ['call', 'put']:\n",
        "        raise ValueError('type must be either \"call\" or \"put\"')\n",
        "\n",
        "    # Validate the option style\n",
        "    if style not in ['american', 'european']:\n",
        "        raise ValueError('style must be either \"american\" or \"european\"')\n",
        "\n",
        "    # Determine sign for call (1) or put (-1) option\n",
        "    sign = 1 if type == 'call' else -1\n",
        "\n",
        "    # Define the range of asset prices\n",
        "    S_min = 0\n",
        "    S_max = S_0 * exp((r - q - sigma**2 / 2) * T + 5 * sigma * sqrt(T))\n",
        "\n",
        "    # Discretize the asset price range\n",
        "    S = np.linspace(S_min, S_max, M + 1)\n",
        "\n",
        "    # Time step size\n",
        "    dt = T / N\n",
        "\n",
        "    # Initialize the option value matrix\n",
        "    V = np.zeros((M + 1, N + 1))\n",
        "\n",
        "    # Set the terminal payoff at maturity\n",
        "    V[:, -1] = np.maximum(sign * (S - K), 0)\n",
        "\n",
        "    # Boundary conditions at S_min and S_max\n",
        "    V[0, :] = np.maximum(sign * (S_min - np.exp(-r * (N - np.arange(0, N + 1)) * dt) * K), 0)\n",
        "    V[-1, :] = np.maximum(sign * (S_max - np.exp(-r * (N - np.arange(0, N + 1)) * dt) * K), 0)\n",
        "\n",
        "    # Coefficients for the implicit finite difference method\n",
        "    alpha = -0.5 * dt * (sigma**2 * np.arange(0, M + 1)**2 - (r - q) * np.arange(0, M + 1))\n",
        "    beta = 1 + dt * (sigma**2 * np.arange(0, M + 1)**2 + r)\n",
        "    gamma = -0.5 * dt * (sigma**2 * np.arange(0, M + 1)**2 + (r - q) * np.arange(0, M + 1))\n",
        "\n",
        "    # Construct the tridiagonal matrix A\n",
        "    A = np.zeros((M - 1, M - 1))\n",
        "    A[0, 0] = beta[1]\n",
        "    A[0, 1] = gamma[1]\n",
        "    A[-1, -1] = beta[M - 1]\n",
        "    A[-1, -2] = alpha[M - 1]\n",
        "    for i in range(1, M - 2):\n",
        "        A[i, i - 1] = alpha[i + 1]\n",
        "        A[i, i] = beta[i + 1]\n",
        "        A[i, i + 1] = gamma[i + 1]\n",
        "\n",
        "    # Backward induction to solve the PDE\n",
        "    for j in range(N - 1, -1, -1):\n",
        "        rhs = V[1:M, j + 1]  # Right-hand side vector\n",
        "        rhs[0] -= alpha[1] * V[0, j]      # Adjust with boundary condition at S_min\n",
        "        rhs[-1] -= gamma[M - 1] * V[M, j] # Adjust with boundary condition at S_max\n",
        "\n",
        "        # Solve the tridiagonal system A * V = rhs\n",
        "        V[1:-1, j] = np.linalg.solve(A, rhs)\n",
        "\n",
        "        # Handle early exercise for American options\n",
        "        if style == 'american':\n",
        "            V[1:-1, j] = np.maximum(sign * (S[1:-1] - K), V[1:-1, j])\n",
        "\n",
        "    # Interpolate to get the option price at S_0\n",
        "    return np.interp(S_0, S, V[:, 0])"
      ],
      "metadata": {
        "id": "UapKgM95Lsn3"
      },
      "execution_count": 4,
      "outputs": []
    },
    {
      "cell_type": "markdown",
      "source": [
        "##Crank-Nicolson Method"
      ],
      "metadata": {
        "id": "5CAhbc-DG5na"
      }
    },
    {
      "cell_type": "markdown",
      "source": [
        "Under Crank-Nicolson finite difference approximation, Black-Scholes PDE becomes\n",
        "$$-\\alpha_iV_{i-1,j-1}+(1-\\beta_i)V_{i,j-1}-\\gamma_i V_{i+1,j-1}=\\alpha_iV_{i-1,j}+(1+\\beta_i)V_{i,j}+\\gamma_iV_{i+1,j}$$ where $$\\alpha_i=\\frac{1}{4}\\Delta t(\\sigma^2i^2-(r-q)i),\\quad \\beta_i = -\\frac{1}{2}\\Delta t(\\sigma^2i^2+r), \\quad \\gamma_i = \\frac{1}{4}\\Delta t(\\sigma^2i^2+(r-q)i)$$\n",
        "\n",
        "For each $j$, if we write $V_j = (V_{i,j})_{1\\leq i\\leq M-1}\\in\\mathbb{R}^{M-1}$ as a column vector, then the above relation can be written as\n",
        "\n",
        "$$A_1V_{j-1} = A_2V_{j}+\\alpha_1(V_{0,j-1}+V_{0,j})e_1+\\gamma_{M-1}(V_{M,j-1}+V_{M,j})e_{M-1}$$\n",
        "where $A_1, A_2$ are tridiagonal matrices with $$A_1 = \\begin{pmatrix}1-\\beta_1&-\\gamma_1&&&\\\\ -\\alpha_2&1-\\beta_2&-\\gamma_2&&\\\\\n",
        "&-\\alpha_3&\\ddots&\\ddots& \\\\\n",
        "&&\\ddots &\\ddots&-\\gamma_{M-2}\\\\\n",
        "&&&-\\alpha_{M-1}&1-\\beta_{M-1}\\end{pmatrix},$$\n",
        "\n",
        "$$A_2 = \\begin{pmatrix}1+\\beta_1&\\gamma_1&&&\\\\ \\alpha_2&1+\\beta_2&\\gamma_2&&\\\\\n",
        "&\\alpha_3&\\ddots&\\ddots& \\\\\n",
        "&&\\ddots &\\ddots&\\gamma_{M-2}\\\\\n",
        "&&&\\alpha_{M-1}&1+\\beta_{M-1}\\end{pmatrix}.$$\n",
        "\n",
        "This allows us to solve for $V_j$ by taking inverse of $A_1$."
      ],
      "metadata": {
        "id": "xQKI23CRK4Tl"
      }
    },
    {
      "cell_type": "code",
      "source": [
        "def BS_CrankNicolson(S_0, K, T, r, q, sigma, N=1000, M=100, style='european', type='call'):\n",
        "    # Validate the option type\n",
        "    if type not in ['call', 'put']:\n",
        "        raise ValueError('type must be either \"call\" or \"put\"')\n",
        "\n",
        "    # Validate the option style\n",
        "    if style not in ['american', 'european']:\n",
        "        raise ValueError('style must be either \"american\" or \"european\"')\n",
        "\n",
        "    # Determine sign for call (1) or put (-1) option\n",
        "    sign = 1 if type == 'call' else -1\n",
        "\n",
        "    # Define the range of asset prices\n",
        "    S_min = 0\n",
        "    S_max = S_0 * exp((r - q - sigma**2 / 2) * T + 5 * sigma * sqrt(T))\n",
        "\n",
        "    # Discretize the asset price range\n",
        "    S = np.linspace(S_min, S_max, M + 1)\n",
        "\n",
        "    # Time step size\n",
        "    dt = T / N\n",
        "\n",
        "    # Initialize the option value matrix\n",
        "    V = np.zeros((M + 1, N + 1))\n",
        "\n",
        "    # Set the terminal payoff at maturity\n",
        "    V[:, -1] = np.maximum(sign * (S - K), 0)\n",
        "\n",
        "    # Boundary conditions at S_min and S_max\n",
        "    V[0, :] = np.maximum(sign * (S_min - np.exp(-r * (N - np.arange(0, N + 1)) * dt) * K), 0)\n",
        "    V[-1, :] = np.maximum(sign * (S_max - np.exp(-r * (N - np.arange(0, N + 1)) * dt) * K), 0)\n",
        "\n",
        "    # Coefficients for the Crank-Nicolson method\n",
        "    alpha = 0.25 * dt * (sigma**2 * np.arange(0, M + 1)**2 - (r - q) * np.arange(0, M + 1))\n",
        "    beta = -0.5 * dt * (sigma**2 * np.arange(0, M + 1)**2 + r)\n",
        "    gamma = 0.25 * dt * (sigma**2 * np.arange(0, M + 1)**2 + (r - q) * np.arange(0, M + 1))\n",
        "\n",
        "    # Construct the tridiagonal matrix A1 for implicit part\n",
        "    A1 = np.zeros((M - 1, M - 1))\n",
        "    A1[0, 0] = 1 - beta[1]\n",
        "    A1[0, 1] = -gamma[1]\n",
        "    A1[-1, -1] = 1 - beta[M - 1]\n",
        "    A1[-1, -2] = -alpha[M - 1]\n",
        "\n",
        "    for i in range(1, M - 2):\n",
        "        A1[i, i - 1] = -alpha[i + 1]\n",
        "        A1[i, i] = 1 - beta[i + 1]\n",
        "        A1[i, i + 1] = -gamma[i + 1]\n",
        "\n",
        "    # Construct the tridiagonal matrix A2 for explicit part\n",
        "    A2 = np.zeros((M - 1, M - 1))\n",
        "    A2[0, 0] = 1 + beta[1]\n",
        "    A2[0, 1] = gamma[1]\n",
        "    A2[-1, -1] = 1 + beta[M - 1]\n",
        "    A2[-1, -2] = alpha[M - 1]\n",
        "\n",
        "    for i in range(1, M - 2):\n",
        "        A2[i, i - 1] = alpha[i + 1]\n",
        "        A2[i, i] = 1 + beta[i + 1]\n",
        "        A2[i, i + 1] = gamma[i + 1]\n",
        "\n",
        "    # Backward induction to solve the PDE using the Crank-Nicolson method\n",
        "    for j in range(N - 1, -1, -1):\n",
        "        # Compute the right-hand side (rhs) of the linear system\n",
        "        rhs = np.matmul(A2, V[1:-1, j + 1])\n",
        "        rhs[0] += alpha[1] * (V[0, j + 1] + V[0, j])\n",
        "        rhs[-1] += gamma[M - 1] * (V[M, j + 1] + V[M, j])\n",
        "\n",
        "        # Solve the linear system A1 * V = rhs\n",
        "        V[1:-1, j] = np.linalg.solve(A1, rhs)\n",
        "\n",
        "        # Handle early exercise for American options\n",
        "        if style == 'american':\n",
        "            V[1:-1, j] = np.maximum(sign * (S[1:-1] - K), V[1:-1, j])\n",
        "\n",
        "    # Interpolate to get the option price at S_0\n",
        "    return np.interp(S_0, S, V[:, 0])"
      ],
      "metadata": {
        "id": "A88PvJxcMKDW"
      },
      "execution_count": 5,
      "outputs": []
    },
    {
      "cell_type": "markdown",
      "source": [
        "## 3. Binomial Tree: CRR Model"
      ],
      "metadata": {
        "id": "FHun7EvSulwa"
      }
    },
    {
      "cell_type": "markdown",
      "source": [
        "In the binomial tree model, we consider discrete time. The price of our asset $S$ will be $S_0$ at $t=0$. At each step, if $S$ is our current price, the price in the next step will go up to $Su$ with probability $p$, and go down to $Sd$ with probability $1-p$.\n",
        "\n",
        "At time $t=n$, we have\n",
        "$$P(S=S_0u^kd^{n-k}) = \\binom{n}{k}p^k(1-p)^{n-k}$$\n",
        "\n",
        "Using the Cox-Ross-Rubinstein model, for a fixed time $T$, we pick $$u=e^{\\sigma\\sqrt{T/n}}, \\quad d=1/u, \\quad p=\\dfrac{e^{(r-q) T/n}-d}{u-d}$$where $\\sigma$ is the volatility of $S$, $r$ is the risk free interest rate, and $p$ is the risk-neutral probability.\n",
        "\n",
        "To find the value of an option $V(S,t)$, we will use the recursive relation\n",
        "$$V(S,t) = e^{-rT/n}[pV(Su,t+T/n)+(1-p)V(Sd,t+T/n)]$$\n",
        "We will produce a binomial tree, and proceed by backward induction.\n",
        "\n"
      ],
      "metadata": {
        "id": "CfWeYWtT0lFQ"
      }
    },
    {
      "cell_type": "markdown",
      "source": [
        "###Implementation"
      ],
      "metadata": {
        "id": "ij7MhdkrwSB8"
      }
    },
    {
      "cell_type": "markdown",
      "source": [
        "We will implement the Binomial models for European options and American options. For American options, since the option may either be held or exercised prior to expiry, the value at each node is: Max (Binomial Value, Exercise Value)."
      ],
      "metadata": {
        "id": "KSyhQMilwapX"
      }
    },
    {
      "cell_type": "code",
      "source": [
        "def Binomial_Tree(S_0, K, T, r, q, sigma, n=1000, style='european', type='call'):\n",
        "    # Validate the option style\n",
        "    if style not in ['american', 'european']:\n",
        "        raise ValueError('style must be either \"american\" or \"european\"')\n",
        "\n",
        "    # Validate the option type\n",
        "    if type not in ['call', 'put']:\n",
        "        raise ValueError('type must be either \"call\" or \"put\"')\n",
        "\n",
        "    # Determine sign for call (1) or put (-1) option\n",
        "    sign = 1 if type == 'call' else -1\n",
        "\n",
        "    # Calculate the up and down factors\n",
        "    u = exp(sigma * sqrt(T / n))  # Up factor\n",
        "    d = 1 / u                           # Down factor\n",
        "\n",
        "    # Calculate the risk-neutral probability\n",
        "    p = (exp((r - q) * T / n) - d) / (u - d)\n",
        "\n",
        "    # Initialize the option value array at maturity\n",
        "    V = [0] * (n + 1)\n",
        "    for k in range(n + 1):\n",
        "        V[k] = max(sign * (S_0 * u**k * d**(n - k) - K), 0)\n",
        "\n",
        "    # Step back through the tree to calculate option value at t=0\n",
        "    for i in range(n - 1, -1, -1):\n",
        "        for k in range(i + 1):\n",
        "            # Risk-neutral valuation\n",
        "            V[k] = exp(-r * T / n) * (p * V[k + 1] + (1 - p) * V[k])\n",
        "\n",
        "            # Early exercise for American options\n",
        "            if style == 'american':\n",
        "                V[k] = max(sign * (S_0 * u**k * d**(i - k) - K), V[k])\n",
        "\n",
        "    # Return the option price at the initial node\n",
        "    return V[0]"
      ],
      "metadata": {
        "id": "A4nz8blTMd6c"
      },
      "execution_count": 6,
      "outputs": []
    },
    {
      "cell_type": "markdown",
      "source": [
        "##4.  Monte-Carlo simulation: Ordinary and Least Square Methods"
      ],
      "metadata": {
        "id": "1K6nvXN8yb0y"
      }
    },
    {
      "cell_type": "markdown",
      "source": [
        "In Monte-Carlo method, we simulate paths of the underlying asset, average the payoff and discount the price.\n",
        "\n",
        "To begin, we recall price of underlying $S$ is a geometric brwonian motion under risk neutral measure:\n",
        "\n",
        "$$dS = (r-q) Sdt + \\sigma SdW$$\n",
        "\n",
        "i.e. $$S_T = S_t\\exp\\left(\\left(r-q-\\frac{\\sigma^2}{2}\\right)(T-t)+\\sigma\\sqrt{T-t} W\\right)$$\n",
        "\n",
        "Where $W\\sim N(0,1)$, this allows us to perform simulation.\n",
        "\n",
        "Let's see some examples."
      ],
      "metadata": {
        "id": "4ntA2spVyhZI"
      }
    },
    {
      "cell_type": "code",
      "source": [
        "# Set the random seed for reproducibility\n",
        "np.random.seed(114514)\n",
        "\n",
        "# Define parameters for the simulation\n",
        "S0 = 100       # Initial stock price\n",
        "r = 0.06       # Risk-free interest rate\n",
        "sigma = 0.2    # Volatility\n",
        "T = 1          # Time to maturity (in years)\n",
        "n = 100        # Number of time steps\n",
        "I = 5          # Number of simulation paths\n",
        "q = 0.01       # Dividend yield\n",
        "\n",
        "# Generate random standard normal variates for the simulations\n",
        "z = np.random.normal(0, 1, (I, n))\n",
        "\n",
        "# Initialize the array to store simulated paths\n",
        "S = np.zeros((I, n + 1))\n",
        "S[:, 0] = S0  # Set initial stock price for all paths\n",
        "\n",
        "# Simulate the stock price paths using the geometric Brownian motion model\n",
        "for t in range(1, n + 1):\n",
        "    S[:, t] = S[:, t - 1] * np.exp((r - q - sigma**2 / 2) * (T / n) + sigma * np.sqrt(T / n) * z[:, t - 1])\n",
        "\n",
        "# Plot the simulated stock price paths\n",
        "plt.figure(figsize=(10, 8))\n",
        "plt.plot(S.T)\n",
        "plt.xlabel('t')\n",
        "plt.ylabel('S(t)')\n",
        "plt.title('Simulated Stock Price Paths')\n",
        "plt.show()"
      ],
      "metadata": {
        "colab": {
          "base_uri": "https://localhost:8080/",
          "height": 763
        },
        "id": "FWjpfSvSNEGX",
        "outputId": "eea4dd2d-f2ed-4ffd-a63f-8363200374b2"
      },
      "execution_count": 7,
      "outputs": [
        {
          "output_type": "display_data",
          "data": {
            "text/plain": [
              "<Figure size 1000x800 with 1 Axes>"
            ],
            "image/png": "[encoded data removed]"
          },
          "metadata": {}
        }
      ]
    },
    {
      "cell_type": "markdown",
      "source": [
        "### European options"
      ],
      "metadata": {
        "id": "9WA9P4MemaoR"
      }
    },
    {
      "cell_type": "markdown",
      "source": [
        "For European options, the payoff at time $T$ is simply $$V_{\\text{call}}(S,T)=(S_T-K)^+,\\quad V_{\\text{put}}(S,T)=(K-S_T)^+$$\n",
        "After discounting to today, the price is $e^{-rT}V$."
      ],
      "metadata": {
        "id": "ALzEtjobmfNh"
      }
    },
    {
      "cell_type": "code",
      "source": [
        "def MC_European(S_0, K, T, r, q, sigma, I=10000, type='call'):\n",
        "    \"\"\"\n",
        "    Monte Carlo simulation for European option pricing.\n",
        "\n",
        "    Parameters:\n",
        "    - S_0: Initial stock price\n",
        "    - K: Strike price\n",
        "    - T: Time to maturity (in years)\n",
        "    - r: Risk-free interest rate\n",
        "    - q: Dividend yield\n",
        "    - sigma: Volatility\n",
        "    - I: Number of Monte Carlo simulations (default is 10000)\n",
        "    - type: Option type ('call' or 'put')\n",
        "\n",
        "    Returns:\n",
        "    - Option price (present value of expected payoff)\n",
        "    \"\"\"\n",
        "\n",
        "    # Validate the option type\n",
        "    if type not in ['call', 'put']:\n",
        "        raise ValueError('type must be either \"call\" or \"put\"')\n",
        "\n",
        "    # Determine sign for call (1) or put (-1) option\n",
        "    sign = 1 if type == 'call' else -1\n",
        "\n",
        "    # Generate random standard normal variates\n",
        "    z = np.random.normal(0, 1, I)\n",
        "\n",
        "    # Simulate the stock price at maturity\n",
        "    ST = S_0 * np.exp((r - q - sigma**2 / 2) * T + sigma * np.sqrt(T) * z)\n",
        "\n",
        "    # Calculate the present value of the expected payoff\n",
        "    option_price = np.exp(-r * T) * np.mean(np.maximum(sign * (ST - K), 0))\n",
        "\n",
        "    return option_price"
      ],
      "metadata": {
        "id": "swMfSYNWNVfx"
      },
      "execution_count": 8,
      "outputs": []
    },
    {
      "cell_type": "markdown",
      "source": [
        "###American options: Least Square Monte Carlo Method"
      ],
      "metadata": {
        "id": "sucmeRv2kFH5"
      }
    },
    {
      "cell_type": "markdown",
      "source": [
        "To price American options, due to the right of early exercise, we will use Least Sqaure Monte Carlo method.\n",
        "\n",
        "We will first generate full paths of underlying asset $S$. At each $t$, for each path which is in the value, we compute the continuation value $C=\\beta X$, where $X$ is the basis functions (for out case: $(1,S,S^2)$) and $\\beta$ is regression coefficient of $e^{-rT/n}V(t+T/n)$ against $X$.\n",
        "\n",
        "Finally, we have $$V(t) = \\begin{cases}\\text{exercise price}&\\text{exercise price}>C \\\\ e^{-rT/n}V(t+T/n) & \\text{otherwise} \\end{cases}$$\n"
      ],
      "metadata": {
        "id": "JBjzy-tzzymq"
      }
    },
    {
      "cell_type": "code",
      "source": [
        "import numpy as np\n",
        "\n",
        "def LSMC_American(S0, K, T, r, q, sigma, n=1000, I=10000, type='call'):\n",
        "    \"\"\"\n",
        "    Longstaff-Schwartz Monte Carlo method for American option pricing.\n",
        "\n",
        "    Parameters:\n",
        "    - S0: Initial stock price\n",
        "    - K: Strike price\n",
        "    - T: Time to maturity (in years)\n",
        "    - r: Risk-free interest rate\n",
        "    - q: Dividend yield\n",
        "    - sigma: Volatility\n",
        "    - n: Number of time steps (default is 1000)\n",
        "    - I: Number of Monte Carlo simulations (default is 10000)\n",
        "    - type: Option type ('call' or 'put')\n",
        "\n",
        "    Returns:\n",
        "    - Estimated price of the American option\n",
        "    \"\"\"\n",
        "\n",
        "    # Validate the option type\n",
        "    if type not in ['call', 'put']:\n",
        "        raise ValueError('type must be either \"call\" or \"put\"')\n",
        "\n",
        "    # Determine sign for call (1) or put (-1) option\n",
        "    sign = 1 if type == 'call' else -1\n",
        "\n",
        "    # Generate random standard normal variates for the simulations\n",
        "    z = np.random.normal(0, 1, (I, n))\n",
        "\n",
        "    # Initialize the stock price matrix\n",
        "    S = np.zeros((I, n + 1))\n",
        "    S[:, 0] = S0  # Set the initial stock price for all paths\n",
        "\n",
        "    # Simulate the stock price paths using the geometric Brownian motion model\n",
        "    for t in range(1, n + 1):\n",
        "        S[:, t] = S[:, t - 1] * np.exp((r - q - sigma**2 / 2) * (T / n) + sigma * np.sqrt(T / n) * z[:, t - 1])\n",
        "\n",
        "    # Initialize the option value at maturity\n",
        "    V = np.maximum(sign * (S[:, n] - K), 0)\n",
        "\n",
        "    # Step backward through the tree to estimate the continuation value\n",
        "    for t in range(n - 1, -1, -1):\n",
        "        in_the_money = sign * (S[:, t] - K) > 0  # Check if option is in the money\n",
        "\n",
        "        # Use linear regression to estimate continuation value\n",
        "        X = np.column_stack((np.ones_like(S[in_the_money, t]), S[in_the_money, t], S[in_the_money, t]**2))\n",
        "        beta = np.linalg.lstsq(X, V[in_the_money] * np.exp(-r * (T / n)), rcond=None)[0]\n",
        "        C = np.dot(X, beta)\n",
        "\n",
        "        # Update option values where early exercise is optimal\n",
        "        V[in_the_money] = np.where(sign * (S[in_the_money, t] - K) > C,\n",
        "                                   sign * (S[in_the_money, t] - K),\n",
        "                                   V[in_the_money] * np.exp(-r * (T / n)))\n",
        "\n",
        "        # Discount the value for paths that are out of the money\n",
        "        V[~in_the_money] = np.exp(-r * (T / n)) * V[~in_the_money]\n",
        "\n",
        "    # Return the mean value as the estimated option price\n",
        "    return np.mean(V)\n",
        "\n",
        "def MC(S_0, K, T, r, q, sigma, n=1000, I=10000, style='european', type='call'):\n",
        "    \"\"\"\n",
        "    Monte Carlo method for option pricing (European and American).\n",
        "\n",
        "    Parameters:\n",
        "    - S_0: Initial stock price\n",
        "    - K: Strike price\n",
        "    - T: Time to maturity (in years)\n",
        "    - r: Risk-free interest rate\n",
        "    - q: Dividend yield\n",
        "    - sigma: Volatility\n",
        "    - n: Number of time steps (default is 1000)\n",
        "    - I: Number of Monte Carlo simulations (default is 10000)\n",
        "    - style: Option style ('american' or 'european')\n",
        "    - type: Option type ('call' or 'put')\n",
        "\n",
        "    Returns:\n",
        "    - Estimated price of the option (European or American)\n",
        "    \"\"\"\n",
        "\n",
        "    # Validate the option type\n",
        "    if type not in ['call', 'put']:\n",
        "        raise ValueError('type must be either \"call\" or \"put\"')\n",
        "\n",
        "    # Validate the option style\n",
        "    if style not in ['american', 'european']:\n",
        "        raise ValueError('style must be either \"american\" or \"european\"')\n",
        "\n",
        "    # Compute the option price based on style\n",
        "    if style == 'american':\n",
        "        return LSMC_American(S_0, K, T, r, q, sigma, n, I, type)\n",
        "    else:\n",
        "        return MC_European(S_0, K, T, r, q, sigma, I, type)\n"
      ],
      "metadata": {
        "id": "79O0Kmr7NsSV"
      },
      "execution_count": 9,
      "outputs": []
    },
    {
      "cell_type": "markdown",
      "source": [
        "##5. Greeks"
      ],
      "metadata": {
        "id": "TkNFjsTIcAFw"
      }
    },
    {
      "cell_type": "markdown",
      "source": [
        "The code calculates five key option Greeks, which measure the sensitivities of an option's price $V$ to various factors:\n",
        "\n",
        "- **Delta (Δ)**: Sensitivity to the underlying asset's price (S), $\\Delta = \\dfrac{\\partial V}{\\partial S}$.\n",
        "- **Vega (\\(\\mathcal{V}\\))**: Sensitivity to volatility $\\sigma$, $\\mathcal{V} = \\dfrac{\\partial V}{\\partial \\sigma}$.\n",
        "- **Theta (Θ)**: Sensitivity to time $T$, $\\Theta = -\\dfrac{\\partial V}{\\partial T}$.\n",
        "- **Rho (ρ)**: Sensitivity to the risk-free interest rate $r$, $\\rho = \\dfrac{\\partial V}{\\partial r}$.\n",
        "- **Gamma (Γ)**: Sensitivity of Delta to the asset's price, $\\Gamma = \\dfrac{\\partial^2 V}{\\partial S^2}$.\n",
        "\n",
        "These Greeks are calculated using three finite difference methods: forward, central, and backward differences, providing flexibility and accuracy in the estimations."
      ],
      "metadata": {
        "id": "XufRghMScEbG"
      }
    },
    {
      "cell_type": "code",
      "source": [
        "# Dictionary mapping implementation methods to corresponding functions\n",
        "function_dict = {\n",
        "    'explicit': BS_Explicit,\n",
        "    'implicit': BS_Implicit,\n",
        "    'cn': BS_CrankNicolson,\n",
        "    'btree': Binomial_Tree,\n",
        "    'analytic': BS_analytic,\n",
        "    'mc': MC\n",
        "}\n",
        "\n",
        "def check_input(style, type, method, implement):\n",
        "    \"\"\"\n",
        "    Validate the inputs for the Greeks calculation functions.\n",
        "\n",
        "    Parameters:\n",
        "    - style: Option style ('american' or 'european')\n",
        "    - type: Option type ('call' or 'put')\n",
        "    - method: Finite difference method ('forward', 'central', 'backward')\n",
        "    - implement: Implementation method ('explicit', 'implicit', 'cn', 'btree', 'mc', 'analytic')\n",
        "\n",
        "    Raises:\n",
        "    - ValueError: If an invalid method or implementation is provided.\n",
        "    \"\"\"\n",
        "    if method not in ['foward', 'central', 'backward']:\n",
        "        raise ValueError('method must be either \"foward\", \"central\", or \"backward\"')\n",
        "    if implement not in ['explicit', 'implicit', 'cn', 'btree', 'mc', 'analytic']:\n",
        "        raise ValueError('implement must be either \"explicit\", \"implicit\", \"cn\", \"btree\", \"mc\", or \"analytic\"')\n",
        "\n",
        "def Delta(S_0, K, T, r, q, sigma, ds=0.0001, style='european', type='call', method='foward', implement='explicit'):\n",
        "    \"\"\"\n",
        "    Calculate the Delta of an option using finite differences.\n",
        "\n",
        "    Parameters:\n",
        "    - S_0: Initial stock price\n",
        "    - K: Strike price\n",
        "    - T: Time to maturity (in years)\n",
        "    - r: Risk-free interest rate\n",
        "    - q: Dividend yield\n",
        "    - sigma: Volatility\n",
        "    - ds: Small change in stock price (default is 0.0001)\n",
        "    - style: Option style ('american' or 'european')\n",
        "    - type: Option type ('call' or 'put')\n",
        "    - method: Finite difference method ('foward', 'central', 'backward')\n",
        "    - implement: Implementation method ('explicit', 'implicit', 'cn', 'btree', 'mc', 'analytic')\n",
        "\n",
        "    Returns:\n",
        "    - Delta of the option\n",
        "    \"\"\"\n",
        "    check_input(style, type, method, implement)\n",
        "    option = function_dict[implement]\n",
        "\n",
        "    if method == 'foward':\n",
        "        return (option(S_0 + ds, K, T, r, q, sigma, style=style, type=type) - option(S_0, K, T, r, q, sigma, style=style, type=type)) / ds\n",
        "    elif method == 'central':\n",
        "        return (option(S_0 + ds, K, T, r, q, sigma, style=style, type=type) - option(S_0 - ds, K, T, r, q, sigma, style=style, type=type)) / (2 * ds)\n",
        "    elif method == 'backward':\n",
        "        return (option(S_0, K, T, r, q, sigma, style=style, type=type) - option(S_0 - ds, K, T, r, q, sigma, style=style, type=type)) / ds\n",
        "\n",
        "def Vega(S_0, K, T, r, q, sigma, dsigma=0.0001, style='european', type='call', method='foward', implement='explicit'):\n",
        "    \"\"\"\n",
        "    Calculate the Vega of an option using finite differences.\n",
        "\n",
        "    Parameters:\n",
        "    - S_0: Initial stock price\n",
        "    - K: Strike price\n",
        "    - T: Time to maturity (in years)\n",
        "    - r: Risk-free interest rate\n",
        "    - q: Dividend yield\n",
        "    - sigma: Volatility\n",
        "    - dsigma: Small change in volatility (default is 0.0001)\n",
        "    - style: Option style ('american' or 'european')\n",
        "    - type: Option type ('call' or 'put')\n",
        "    - method: Finite difference method ('foward', 'central', 'backward')\n",
        "    - implement: Implementation method ('explicit', 'implicit', 'cn', 'btree', 'mc', 'analytic')\n",
        "\n",
        "    Returns:\n",
        "    - Vega of the option\n",
        "    \"\"\"\n",
        "    check_input(style, type, method, implement)\n",
        "    option = function_dict[implement]\n",
        "\n",
        "    if method == 'foward':\n",
        "        return (option(S_0, K, T, r, q, sigma + dsigma, style=style, type=type) - option(S_0, K, T, r, q, sigma, style=style, type=type)) / dsigma\n",
        "    elif method == 'central':\n",
        "        return (option(S_0, K, T, r, q, sigma + dsigma, style=style, type=type) - option(S_0, K, T, r, q, sigma - dsigma, style=style, type=type)) / (2 * dsigma)\n",
        "    elif method == 'backward':\n",
        "        return (option(S_0, K, T, r, q, sigma, style=style, type=type) - option(S_0, K, T, r, q, sigma - dsigma, style=style, type=type)) / dsigma\n",
        "\n",
        "def Theta(S_0, K, T, r, q, sigma, dt=0.0001, style='european', type='call', method='foward', implement='explicit'):\n",
        "    \"\"\"\n",
        "    Calculate the Theta of an option using finite differences.\n",
        "\n",
        "    Parameters:\n",
        "    - S_0: Initial stock price\n",
        "    - K: Strike price\n",
        "    - T: Time to maturity (in years)\n",
        "    - r: Risk-free interest rate\n",
        "    - q: Dividend yield\n",
        "    - sigma: Volatility\n",
        "    - dt: Small change in time (default is 0.0001)\n",
        "    - style: Option style ('american' or 'european')\n",
        "    - type: Option type ('call' or 'put')\n",
        "    - method: Finite difference method ('foward', 'central', 'backward')\n",
        "    - implement: Implementation method ('explicit', 'implicit', 'cn', 'btree', 'mc', 'analytic')\n",
        "\n",
        "    Returns:\n",
        "    - Theta of the option\n",
        "    \"\"\"\n",
        "    check_input(style, type, method, implement)\n",
        "    option = function_dict[implement]\n",
        "\n",
        "    if method == 'foward':\n",
        "        return (option(S_0, K, T - dt, r, q, sigma, style=style, type=type) - option(S_0, K, T, r, q, sigma, style=style, type=type)) / dt\n",
        "    elif method == 'central':\n",
        "        return (option(S_0, K, T - dt, r, q, sigma, style=style, type=type) - option(S_0, K, T + dt, r, q, sigma, style=style, type=type)) / (2 * dt)\n",
        "    elif method == 'backward':\n",
        "        return (option(S_0, K, T, r, q, sigma, style=style, type=type) - option(S_0, K, T + dt, r, q, sigma, style=style, type=type)) / dt\n",
        "\n",
        "def Rho(S_0, K, T, r, q, sigma, dr=0.0001, style='european', type='call', method='foward', implement='explicit'):\n",
        "    \"\"\"\n",
        "    Calculate the Rho of an option using finite differences.\n",
        "\n",
        "    Parameters:\n",
        "    - S_0: Initial stock price\n",
        "    - K: Strike price\n",
        "    - T: Time to maturity (in years)\n",
        "    - r: Risk-free interest rate\n",
        "    - q: Dividend yield\n",
        "    - sigma: Volatility\n",
        "    - dr: Small change in interest rate (default is 0.0001)\n",
        "    - style: Option style ('american' or 'european')\n",
        "    - type: Option type ('call' or 'put')\n",
        "    - method: Finite difference method ('foward', 'central', 'backward')\n",
        "    - implement: Implementation method ('explicit', 'implicit', 'cn', 'btree', 'mc', 'analytic')\n",
        "\n",
        "    Returns:\n",
        "    - Rho of the option\n",
        "    \"\"\"\n",
        "    check_input(style, type, method, implement)\n",
        "    option = function_dict[implement]\n",
        "\n",
        "    if method == 'foward':\n",
        "        return (option(S_0, K, T, r + dr, q, sigma, style=style, type=type) - option(S_0, K, T, r, q, sigma, style=style, type=type)) / dr\n",
        "    elif method == 'central':\n",
        "        return (option(S_0, K, T, r + dr, q, sigma, style=style, type=type) - option(S_0, K, T, r - dr, q, sigma, style=style, type=type)) / (2 * dr)\n",
        "    elif method == 'backward':\n",
        "        return (option(S_0, K, T, r, q, sigma, style=style, type=type) - option(S_0, K, T, r - dr, q, sigma, style=style, type=type)) / dr\n",
        "\n",
        "def Gamma(S_0, K, T, r, q, sigma, ds=0.0001, style='european', type='call', method='foward', implement='explicit'):\n",
        "    \"\"\"\n",
        "    Calculate the Gamma of an option using finite differences.\n",
        "\n",
        "    Parameters:\n",
        "    - S_0: Initial stock price\n",
        "    - K: Strike price\n",
        "    - T: Time to maturity (in years)\n",
        "    - r: Risk-free interest rate\n",
        "    - q: Dividend yield\n",
        "    - sigma: Volatility\n",
        "    - ds: Small change in stock price (default is 0.0001)\n",
        "    - style: Option style ('american' or 'european')\n",
        "    - type: Option type ('call' or 'put')\n",
        "    - method: Finite difference method ('foward', 'central', 'backward')\n",
        "    - implement: Implementation method ('explicit', 'implicit', 'cn', 'btree', 'mc', 'analytic')\n",
        "\n",
        "    Returns:\n",
        "    - Gamma of the option\n",
        "    \"\"\"\n",
        "    check_input(style, type, method, implement)\n",
        "    option = function_dict[implement]\n",
        "\n",
        "    if method == 'foward':\n",
        "        return (option(S_0 + 2 * ds, K, T, r, q, sigma, style=style, type=type) - 2 * option(S_0 + ds, K, T, r, q, sigma, style=style, type=type) + option(S_0, K, T, r, q, sigma, style=style, type=type)) / (ds**2)\n",
        "    elif method == 'central':\n",
        "        return (option(S_0 + ds, K, T, r, q, sigma, style=style, type=type) - 2 * option(S_0, K, T, r, q, sigma, style=style, type=type) + option(S_0 - ds, K, T, r, q, sigma, style=style, type=type)) / (ds**2)\n",
        "    elif method == 'backward':\n",
        "        return (option(S_0, K, T, r, q, sigma, style=style, type=type) - 2 * option(S_0 - ds, K, T, r, q, sigma, style=style, type=type) + option(S_0 - 2 * ds, K, T, r, q, sigma, style=style, type=type)) / (ds**2)\n"
      ],
      "metadata": {
        "id": "ubSinN0OOlPk"
      },
      "execution_count": 10,
      "outputs": []
    },
    {
      "cell_type": "markdown",
      "source": [
        "## 6. Comparison with `Quantlib`\n"
      ],
      "metadata": {
        "id": "oMirlGIUpOQA"
      }
    },
    {
      "cell_type": "markdown",
      "source": [
        "In this section,  we compare our previous implementation with the open library `Quantlib`."
      ],
      "metadata": {
        "id": "_xbDrDRbzT7Q"
      }
    },
    {
      "cell_type": "code",
      "source": [
        "pip install QuantLib-Python"
      ],
      "metadata": {
        "colab": {
          "base_uri": "https://localhost:8080/"
        },
        "id": "YGMeLtgZB88E",
        "outputId": "0bd9908a-2e70-42ed-c697-3d84bd45c81c"
      },
      "execution_count": 11,
      "outputs": [
        {
          "output_type": "stream",
          "name": "stdout",
          "text": [
            "Requirement already satisfied: QuantLib-Python in /usr/local/lib/python3.10/dist-packages (1.18)\n",
            "Requirement already satisfied: QuantLib in /usr/local/lib/python3.10/dist-packages (from QuantLib-Python) (1.35)\n"
          ]
        }
      ]
    },
    {
      "cell_type": "markdown",
      "source": [
        "Let's compare the price of a European Call option using analytic method in `Quantlib`."
      ],
      "metadata": {
        "id": "bGFu9RjCzfsU"
      }
    },
    {
      "cell_type": "code",
      "source": [
        "import QuantLib as ql\n",
        "\n",
        "# Option data\n",
        "spot_price = 100.0  # Current stock price\n",
        "strike_price = 100.0  # Strike price\n",
        "maturity_date = ql.Date(31, 12, 2023)  # Option maturity date\n",
        "volatility = 0.20  # Historical volatility of the underlying asset\n",
        "risk_free_rate = 0.05  # Risk-free interest rate\n",
        "dividend_yield = 0.02  # Dividend yield\n",
        "\n",
        "# QuantLib settings\n",
        "calendar = ql.NullCalendar()\n",
        "day_count = ql.SimpleDayCounter()\n",
        "calculation_date = ql.Date(31, 12, 2022)\n",
        "ql.Settings.instance().evaluationDate = calculation_date\n",
        "\n",
        "# Option type (Call)\n",
        "payoff = ql.PlainVanillaPayoff(ql.Option.Call, strike_price)\n",
        "exercise = ql.EuropeanExercise(maturity_date)\n",
        "\n",
        "# Create the option\n",
        "european_option = ql.VanillaOption(payoff, exercise)\n",
        "\n",
        "# Black-Scholes process\n",
        "spot_handle = ql.QuoteHandle(ql.SimpleQuote(spot_price))\n",
        "flat_ts = ql.YieldTermStructureHandle(ql.FlatForward(calculation_date, risk_free_rate, day_count))\n",
        "dividend_yield_ts = ql.YieldTermStructureHandle(ql.FlatForward(calculation_date, dividend_yield, day_count))\n",
        "volatility_ts = ql.BlackVolTermStructureHandle(ql.BlackConstantVol(calculation_date, calendar, volatility, day_count))\n",
        "\n",
        "bs_process = ql.BlackScholesMertonProcess(spot_handle, dividend_yield_ts, flat_ts, volatility_ts)\n",
        "\n",
        "# Pricing the option using Black-Scholes formula\n",
        "european_option.setPricingEngine(ql.AnalyticEuropeanEngine(bs_process))\n",
        "\n",
        "# Option price\n",
        "option_price = european_option.NPV()\n",
        "print(f\"European Call Option Price by Quantlib: {option_price}\")"
      ],
      "metadata": {
        "id": "_zgaSNK-q_8k",
        "colab": {
          "base_uri": "https://localhost:8080/"
        },
        "outputId": "3a8580e6-d253-4fbc-c672-f859787f7aac"
      },
      "execution_count": 12,
      "outputs": [
        {
          "output_type": "stream",
          "name": "stdout",
          "text": [
            "European Call Option Price by Quantlib: 9.227005508154061\n"
          ]
        }
      ]
    },
    {
      "cell_type": "code",
      "source": [
        "methods = {'Analytic':BS_analytic,'Explicit':BS_Explicit,'Implicit':BS_Implicit,'Crank-Nicolson':BS_CrankNicolson,'Binomial Tree':Binomial_Tree,'Monte-Carlo':MC}\n",
        "for name, func in methods.items():\n",
        "  print(f\"European Call Option Price by {name} method: {func(spot_price,strike_price,1,risk_free_rate,dividend_yield,volatility,style = 'european', type = 'call')}\")"
      ],
      "metadata": {
        "colab": {
          "base_uri": "https://localhost:8080/"
        },
        "id": "Y2t50xKN9h0U",
        "outputId": "bc72a018-5424-499c-ed4c-b75f3a0d5aff"
      },
      "execution_count": 13,
      "outputs": [
        {
          "output_type": "stream",
          "name": "stdout",
          "text": [
            "European Call Option Price by Analytic method: 9.227005508154043\n",
            "European Call Option Price by Explicit method: 9.24482032272267\n",
            "European Call Option Price by Implicit method: 9.242597252870802\n",
            "European Call Option Price by Crank-Nicolson method: 9.24370896085804\n",
            "European Call Option Price by Binomial Tree method: 9.2250617378441\n",
            "European Call Option Price by Monte-Carlo method: 9.363557371019045\n"
          ]
        }
      ]
    },
    {
      "cell_type": "markdown",
      "source": [
        "We see that all the method are quite close. The Monte-Carlo method differs slightly, which we guess can be imrpoved by increasing number of iterations.\n",
        "\n",
        "For a European put option, our method looks like this:"
      ],
      "metadata": {
        "id": "lNN1VrkOzs87"
      }
    },
    {
      "cell_type": "code",
      "source": [
        "for name, func in methods.items():\n",
        "  print(f\"European Put Option Price by {name} method: {func(spot_price,strike_price,1,risk_free_rate,dividend_yield,volatility,style = 'european', type = 'put')}\")"
      ],
      "metadata": {
        "colab": {
          "base_uri": "https://localhost:8080/"
        },
        "id": "hb_jDMlrECA-",
        "outputId": "cdda5cc2-18ff-4141-b757-d6db5123f006"
      },
      "execution_count": 14,
      "outputs": [
        {
          "output_type": "stream",
          "name": "stdout",
          "text": [
            "European Put Option Price by Analytic method: 6.3300806275499255\n",
            "European Put Option Price by Explicit method: 6.347795898205775\n",
            "European Put Option Price by Implicit method: 6.345771380623305\n",
            "European Put Option Price by Crank-Nicolson method: 6.346783815843518\n",
            "European Put Option Price by Binomial Tree method: 6.328136857244768\n",
            "European Put Option Price by Monte-Carlo method: 6.4927178631613085\n"
          ]
        }
      ]
    },
    {
      "cell_type": "markdown",
      "source": [
        "Let's compare the price of an American Put option using CRR method in `Quantlib`."
      ],
      "metadata": {
        "id": "BfzoGPiH0GI_"
      }
    },
    {
      "cell_type": "code",
      "source": [
        "# Option type (Put)\n",
        "payoff = ql.PlainVanillaPayoff(ql.Option.Put, strike_price)\n",
        "exercise = ql.AmericanExercise(calculation_date, maturity_date)\n",
        "\n",
        "# Create the option\n",
        "american_option = ql.VanillaOption(payoff, exercise)\n",
        "\n",
        "# Black-Scholes process\n",
        "spot_handle = ql.QuoteHandle(ql.SimpleQuote(spot_price))\n",
        "flat_ts = ql.YieldTermStructureHandle(ql.FlatForward(calculation_date, risk_free_rate, day_count))\n",
        "dividend_yield_ts = ql.YieldTermStructureHandle(ql.FlatForward(calculation_date, dividend_yield, day_count))\n",
        "volatility_ts = ql.BlackVolTermStructureHandle(ql.BlackConstantVol(calculation_date, calendar, volatility, day_count))\n",
        "\n",
        "bs_process = ql.BlackScholesMertonProcess(spot_handle, dividend_yield_ts, flat_ts, volatility_ts)\n",
        "\n",
        "# Pricing the option using Binomial tree method (Cox-Ross-Rubinstein model)\n",
        "binomial_engine = ql.BinomialVanillaEngine(bs_process, \"crr\", 1000)\n",
        "american_option.setPricingEngine(binomial_engine)\n",
        "\n",
        "# Option price\n",
        "option_price = american_option.NPV()\n",
        "print(f\"American Put Option Price: {option_price}\")"
      ],
      "metadata": {
        "id": "OVqofW2Nr-X7",
        "colab": {
          "base_uri": "https://localhost:8080/"
        },
        "outputId": "9828b1bb-bae9-4c75-9467-4046e06f02cb"
      },
      "execution_count": 15,
      "outputs": [
        {
          "output_type": "stream",
          "name": "stdout",
          "text": [
            "American Put Option Price: 6.659768779152895\n"
          ]
        }
      ]
    },
    {
      "cell_type": "code",
      "source": [
        "methods = {'Explicit':BS_Explicit,'Implicit':BS_Implicit,'Crank-Nicolson':BS_CrankNicolson,'Binomial Tree':Binomial_Tree,'Monte-Carlo':MC}\n",
        "for name, func in methods.items():\n",
        "  print(f\"American Put Option Price by {name} method: {func(spot_price,strike_price,1,risk_free_rate,dividend_yield,volatility,style = 'american', type = 'put')}\")"
      ],
      "metadata": {
        "colab": {
          "base_uri": "https://localhost:8080/"
        },
        "id": "5MBIcJ1L98Hu",
        "outputId": "fb006c0c-6509-4f82-a3e5-951d0b94bc03"
      },
      "execution_count": 16,
      "outputs": [
        {
          "output_type": "stream",
          "name": "stdout",
          "text": [
            "American Put Option Price by Explicit method: 6.674394474029806\n",
            "American Put Option Price by Implicit method: 6.67100838070447\n",
            "American Put Option Price by Crank-Nicolson method: 6.6726940679145414\n",
            "American Put Option Price by Binomial Tree method: 6.659759199384019\n",
            "American Put Option Price by Monte-Carlo method: 6.622172698547084\n"
          ]
        }
      ]
    },
    {
      "cell_type": "markdown",
      "source": [
        "The price matches our Binomial Tree implementation nicely. Other implementations also come very closely.\n",
        "\n",
        "Finally let's have a look at the price of American Call option."
      ],
      "metadata": {
        "id": "eeo9MaMk0pMl"
      }
    },
    {
      "cell_type": "code",
      "source": [
        "for name, func in methods.items():\n",
        "  print(f\"American Call Option Price by {name} method: {func(spot_price,strike_price,1,risk_free_rate,dividend_yield,volatility,style = 'american', type = 'call')}\")"
      ],
      "metadata": {
        "colab": {
          "base_uri": "https://localhost:8080/"
        },
        "id": "d3OSFpWvDyyC",
        "outputId": "ead4f23e-580a-412c-cb7a-b50642c20c85"
      },
      "execution_count": 17,
      "outputs": [
        {
          "output_type": "stream",
          "name": "stdout",
          "text": [
            "American Call Option Price by Explicit method: 9.244820327046916\n",
            "American Call Option Price by Implicit method: 9.242597256763087\n",
            "American Call Option Price by Crank-Nicolson method: 9.24370896496268\n",
            "American Call Option Price by Binomial Tree method: 9.2250617710089\n",
            "American Call Option Price by Monte-Carlo method: 9.27911112347842\n"
          ]
        }
      ]
    }
  ]
}